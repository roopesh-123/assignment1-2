{
  "nbformat": 4,
  "nbformat_minor": 0,
  "metadata": {
    "colab": {
      "name": "areaofcircle.ipynb",
      "provenance": [],
      "collapsed_sections": []
    },
    "kernelspec": {
      "name": "python3",
      "display_name": "Python 3"
    }
  },
  "cells": [
    {
      "cell_type": "code",
      "metadata": {
        "id": "D7KIv14HqqVY",
        "colab_type": "code",
        "colab": {}
      },
      "source": [
        "r=int(input())\n",
        "area=3.14*(r**2)\n",
        "print(\"the area of circle is:\",area)"
      ],
      "execution_count": null,
      "outputs": []
    }
  ]
}