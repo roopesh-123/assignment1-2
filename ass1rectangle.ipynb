{
  "nbformat": 4,
  "nbformat_minor": 0,
  "metadata": {
    "colab": {
      "name": "ass1rectangle.ipynb",
      "provenance": []
    },
    "kernelspec": {
      "name": "python3",
      "display_name": "Python 3"
    }
  },
  "cells": [
    {
      "cell_type": "code",
      "metadata": {
        "id": "94dX46zI315_",
        "colab_type": "code",
        "colab": {}
      },
      "source": [
        "l=int(input())\n",
        "b=int(input())\n",
        "d=l*b\n",
        "print(d)"
      ],
      "execution_count": null,
      "outputs": []
    }
  ]
}