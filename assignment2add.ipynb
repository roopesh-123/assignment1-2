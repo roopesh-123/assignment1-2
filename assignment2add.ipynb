{
  "nbformat": 4,
  "nbformat_minor": 0,
  "metadata": {
    "colab": {
      "name": "assignment2add.ipynb",
      "provenance": []
    },
    "kernelspec": {
      "name": "python3",
      "display_name": "Python 3"
    }
  },
  "cells": [
    {
      "cell_type": "code",
      "metadata": {
        "id": "njdB_iM4yRKS",
        "colab_type": "code",
        "colab": {}
      },
      "source": [
        "a=int(input(\"enter the value of a:\"))\n",
        "b=int(input(\"enter the value of b:\"))\n",
        "c=a+b\n",
        "print(\"the sum of two numbers is:\",c)"
      ],
      "execution_count": null,
      "outputs": []
    }
  ]
}