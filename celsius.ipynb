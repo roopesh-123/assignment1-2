{
  "nbformat": 4,
  "nbformat_minor": 0,
  "metadata": {
    "colab": {
      "name": "celsius.ipynb",
      "provenance": []
    },
    "kernelspec": {
      "name": "python3",
      "display_name": "Python 3"
    }
  },
  "cells": [
    {
      "cell_type": "code",
      "metadata": {
        "id": "OL9KQ6igxQRk",
        "colab_type": "code",
        "colab": {}
      },
      "source": [
        "c=int(input())\n",
        "fahrenheit=(c*1.8)+32\n",
        "print(\"the output is:\",fahrenheit)\n",
        "\n"
      ],
      "execution_count": null,
      "outputs": []
    }
  ]
}