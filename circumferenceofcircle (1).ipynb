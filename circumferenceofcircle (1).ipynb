{
  "nbformat": 4,
  "nbformat_minor": 0,
  "metadata": {
    "colab": {
      "name": "circumferenceofcircle.ipynb",
      "provenance": [],
      "collapsed_sections": []
    },
    "kernelspec": {
      "name": "python3",
      "display_name": "Python 3"
    }
  },
  "cells": [
    {
      "cell_type": "code",
      "metadata": {
        "id": "pbiMfP-AvQ9E",
        "colab_type": "code",
        "colab": {}
      },
      "source": [
        "r=int(input())\n",
        "circum=2*3.14*r\n",
        "print(\"the circumference is:\"circum)"
      ],
      "execution_count": null,
      "outputs": []
    }
  ]
}