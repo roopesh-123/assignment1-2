{
  "nbformat": 4,
  "nbformat_minor": 0,
  "metadata": {
    "colab": {
      "name": "ass2welcome.ipynb",
      "provenance": []
    },
    "kernelspec": {
      "name": "python3",
      "display_name": "Python 3"
    }
  },
  "cells": [
    {
      "cell_type": "code",
      "metadata": {
        "id": "FxQoJ_F3zmXE",
        "colab_type": "code",
        "colab": {
          "base_uri": "https://localhost:8080/",
          "height": 51
        },
        "outputId": "9208c8b0-35ec-4916-b29b-13e12a07286e"
      },
      "source": [
        "a=input(\"enter your name\")\n",
        "print(\"hello\",a)"
      ],
      "execution_count": 1,
      "outputs": [
        {
          "output_type": "stream",
          "text": [
            "enter your nameroopesh\n",
            "hello roopesh\n"
          ],
          "name": "stdout"
        }
      ]
    }
  ]
}