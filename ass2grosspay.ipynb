{
  "nbformat": 4,
  "nbformat_minor": 0,
  "metadata": {
    "colab": {
      "name": "ass2grosspay.ipynb",
      "provenance": []
    },
    "kernelspec": {
      "name": "python3",
      "display_name": "Python 3"
    }
  },
  "cells": [
    {
      "cell_type": "code",
      "metadata": {
        "id": "jUUL5vn1yv7m",
        "colab_type": "code",
        "colab": {
          "base_uri": "https://localhost:8080/",
          "height": 68
        },
        "outputId": "a5df3ad5-e358-4b15-c019-561af1f3a9a2"
      },
      "source": [
        "a=int(input(\"enter the number of hours:\"))\n",
        "b=float(input(\"enter the amount of rate:\"))\n",
        "pay=a*b\n",
        "print(\"the amount to be payed is:\",pay)"
      ],
      "execution_count": 2,
      "outputs": [
        {
          "output_type": "stream",
          "text": [
            "enter the number of hours:35\n",
            "enter the amount of rate:2.75\n",
            "the amount to be payed is: 96.25\n"
          ],
          "name": "stdout"
        }
      ]
    },
    {
      "cell_type": "code",
      "metadata": {
        "id": "RlVV-fg9zNcG",
        "colab_type": "code",
        "colab": {}
      },
      "source": [
        ""
      ],
      "execution_count": null,
      "outputs": []
    }
  ]
}