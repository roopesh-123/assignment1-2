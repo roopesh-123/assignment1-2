{
  "nbformat": 4,
  "nbformat_minor": 0,
  "metadata": {
    "colab": {
      "name": "trianglearea.ipynb",
      "provenance": []
    },
    "kernelspec": {
      "name": "python3",
      "display_name": "Python 3"
    }
  },
  "cells": [
    {
      "cell_type": "code",
      "metadata": {
        "id": "W9hmsLVowyS7",
        "colab_type": "code",
        "colab": {}
      },
      "source": [
        "h=int(input())\n",
        "b=int(input())\n",
        "area=h*b/2\n",
        "print(\"the area is:\",area)"
      ],
      "execution_count": null,
      "outputs": []
    }
  ]
}