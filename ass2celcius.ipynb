{
  "nbformat": 4,
  "nbformat_minor": 0,
  "metadata": {
    "colab": {
      "name": "ass2celcius.ipynb",
      "provenance": []
    },
    "kernelspec": {
      "name": "python3",
      "display_name": "Python 3"
    }
  },
  "cells": [
    {
      "cell_type": "code",
      "metadata": {
        "id": "QWTdwP2O1A91",
        "colab_type": "code",
        "colab": {}
      },
      "source": [
        "c=int(\"enterb the centigrade\")\n",
        "f=(c*1.8)+32\n",
        "print(\"the converted temperatureis:\"f)"
      ],
      "execution_count": null,
      "outputs": []
    }
  ]
}